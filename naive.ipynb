{
 "cells": [
  {
   "cell_type": "code",
   "execution_count": 1,
   "metadata": {},
   "outputs": [
    {
     "data": {
      "text/plain": [
       "array([ 5,  1,  4, 16], dtype=int64)"
      ]
     },
     "execution_count": 1,
     "metadata": {},
     "output_type": "execute_result"
    }
   ],
   "source": [
    "import pandas as pd\n",
    "import numpy as np\n",
    "import random\n",
    "\n",
    "# Reading in the data\n",
    "df = pd.read_csv('./combined_data.csv')\n",
    "\n",
    "# we have logs of 4 different types\n",
    "df[\"Event ID\"].unique()"
   ]
  },
  {
   "cell_type": "code",
   "execution_count": 2,
   "metadata": {},
   "outputs": [],
   "source": [
    "# Create separate dataframes of each Event ID type containing the log texts\n",
    "df_id5 = df[df[\"Event ID\"] == 5][\"Description\"]\n",
    "df_id1 = df[df[\"Event ID\"] == 1][\"Description\"]\n",
    "df_id4 = df[df[\"Event ID\"] == 4][\"Description\"]\n",
    "df_id16 = df[df[\"Event ID\"] == 16][\"Description\"]"
   ]
  },
  {
   "cell_type": "code",
   "execution_count": 3,
   "metadata": {},
   "outputs": [],
   "source": [
    "# Making each Description into a list of strings by splitting on \\r\\n\n",
    "id5 = [desc.split('\\r\\n') for desc in df_id5]\n",
    "id1 = [desc.split('\\r\\n') for desc in df_id1]\n",
    "id4 = [desc.split('\\r\\n') for desc in df_id4]\n",
    "id16 = [desc.split('\\r\\n') for desc in df_id16]"
   ]
  },
  {
   "cell_type": "code",
   "execution_count": 4,
   "metadata": {},
   "outputs": [
    {
     "data": {
      "text/plain": [
       "['Process terminated:',\n",
       " 'RuleName: -',\n",
       " 'UtcTime: 2023-12-03 22:22:27.195',\n",
       " 'ProcessGuid: {b5ad183e-fbff-656c-4800-000000000600}',\n",
       " 'ProcessId: 3460',\n",
       " 'Image: C:\\\\Windows\\\\System32\\\\svchost.exe',\n",
       " 'User: NT AUTHORITY\\\\SYSTEM']"
      ]
     },
     "execution_count": 4,
     "metadata": {},
     "output_type": "execute_result"
    }
   ],
   "source": [
    "id5[0]"
   ]
  },
  {
   "cell_type": "code",
   "execution_count": 5,
   "metadata": {},
   "outputs": [],
   "source": [
    "# Used to generate synthetic logs of a given type using random\n",
    "def generate_fake_log(log_id_type):\n",
    "    line_dict = {5: (7, id5),\n",
    "                 1: (24, id1),\n",
    "                 4: (5, id4),\n",
    "                 16: (4, id16)}\n",
    "    iter_times, data = line_dict[log_id_type]\n",
    "    fake_log = \"\"\n",
    "    for i in range(iter_times):\n",
    "        log_to_pick = random.choice(data)\n",
    "        fake_log += log_to_pick[i] + '\\r\\n'\n",
    "    return fake_log"
   ]
  },
  {
   "cell_type": "code",
   "execution_count": 7,
   "metadata": {},
   "outputs": [
    {
     "name": "stdout",
     "output_type": "stream",
     "text": [
      "Process terminated:\n",
      "RuleName: -\n",
      "UtcTime: 2023-12-03 21:52:23.053\n",
      "ProcessGuid: {b5ad183e-fd78-656c-cc00-000000000600}\n",
      "ProcessId: 1644\n",
      "Image: C:\\Program Files\\WindowsApps\\Microsoft.Windows.Photos_2019.19071.12548.0_x64__8wekyb3d8bbwe\\Microsoft.Photos.exe\n",
      "User: NT AUTHORITY\\SYSTEM\n",
      "\n",
      "\n",
      "==================================================\n",
      "\n",
      "Process terminated:\n",
      "RuleName: -\n",
      "UtcTime: 2023-12-03 21:52:31.744\n",
      "ProcessGuid: {1c492278-fbd7-656c-8702-000000000500}\n",
      "ProcessId: 1388\n",
      "Image: C:\\Windows\\System32\\dllhost.exe\n",
      "User: WINDOWS-10-VM\\user1\n",
      "\n",
      "\n",
      "==================================================\n",
      "\n",
      "Process terminated:\n",
      "RuleName: -\n",
      "UtcTime: 2023-12-03 22:09:03.681\n",
      "ProcessGuid: {b5ad183e-f826-656c-7802-000000000400}\n",
      "ProcessId: 3692\n",
      "Image: C:\\Windows\\Microsoft.NET\\Framework\\v4.0.30319\\mscorsvw.exe\n",
      "User: NT AUTHORITY\\SYSTEM\n",
      "\n",
      "\n",
      "==================================================\n",
      "\n",
      "Process terminated:\n",
      "RuleName: -\n",
      "UtcTime: 2023-12-03 22:09:03.680\n",
      "ProcessGuid: {1c492278-fc65-656c-9c02-000000000500}\n",
      "ProcessId: 756\n",
      "Image: C:\\Program Files\\Google\\Chrome\\Application\\chrome.exe\n",
      "User: NT AUTHORITY\\SYSTEM\n",
      "\n",
      "\n",
      "==================================================\n",
      "\n",
      "Process terminated:\n",
      "RuleName: -\n",
      "UtcTime: 2023-12-03 22:14:05.725\n",
      "ProcessGuid: {b5ad183e-f4ca-656c-4002-000000000400}\n",
      "ProcessId: 3780\n",
      "Image: C:\\Windows\\Microsoft.NET\\Framework\\v4.0.30319\\mscorsvw.exe\n",
      "User: WINDOWS102\\vboxuser\n",
      "\n",
      "\n",
      "==================================================\n",
      "\n"
     ]
    }
   ],
   "source": [
    "# Generate 5 fake logs\n",
    "for _ in range(5):\n",
    "    fake_log = generate_fake_log(5)\n",
    "    print(fake_log)\n",
    "    print(\"\\n\" + \"=\"*50 + \"\\n\")"
   ]
  },
  {
   "cell_type": "code",
   "execution_count": null,
   "metadata": {},
   "outputs": [],
   "source": []
  }
 ],
 "metadata": {
  "kernelspec": {
   "display_name": "Python 3",
   "language": "python",
   "name": "python3"
  },
  "language_info": {
   "codemirror_mode": {
    "name": "ipython",
    "version": 3
   },
   "file_extension": ".py",
   "mimetype": "text/x-python",
   "name": "python",
   "nbconvert_exporter": "python",
   "pygments_lexer": "ipython3",
   "version": "3.11.2"
  }
 },
 "nbformat": 4,
 "nbformat_minor": 2
}
